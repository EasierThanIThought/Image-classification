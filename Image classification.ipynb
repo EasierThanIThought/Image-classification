{
  "nbformat": 4,
  "nbformat_minor": 0,
  "metadata": {
    "kernelspec": {
      "display_name": "Python 3",
      "language": "python",
      "name": "python3"
    },
    "language_info": {
      "codemirror_mode": {
        "name": "ipython",
        "version": 3
      },
      "file_extension": ".py",
      "mimetype": "text/x-python",
      "name": "python",
      "nbconvert_exporter": "python",
      "pygments_lexer": "ipython3",
      "version": "3.5.4"
    },
    "colab": {
      "name": "7.ipynb",
      "provenance": [],
      "collapsed_sections": []
    }
  },
  "cells": [
    {
      "cell_type": "markdown",
      "metadata": {
        "id": "QJ28l2zDfdOp"
      },
      "source": [
        "## Классификация изображений"
      ]
    },
    {
      "cell_type": "markdown",
      "source": [
        "В данной задаче решается задача классификации изображений – отделение изображений кошек от изображений собак, используя классификацию с мягким зазором и параметром C=1,35.  "
      ],
      "metadata": {
        "id": "L4wVatXq06AA"
      }
    },
    {
      "cell_type": "markdown",
      "source": [
        "В предложенном архиве train находится выборка, включающая в себя изображения кошек и собак (по 500 изображений). Имя каждого изображения, для удобства, имеет следующий формат:  cat/dog.номер_изображения.jpg  в зависимости от того, какое животное присутствует на изображении. Данная выборка используется для обучения классификатора и оценки классификатора.\n",
        "Следующая выборка test предназначена для классификации новых объектов после построения классификатора."
      ],
      "metadata": {
        "id": "iA3qQC1I1TlG"
      }
    },
    {
      "cell_type": "markdown",
      "source": [
        "Cкачивание архивов, распаковка"
      ],
      "metadata": {
        "id": "lgfrTVqX2Wea"
      }
    },
    {
      "cell_type": "code",
      "metadata": {
        "colab": {
          "base_uri": "https://localhost:8080/"
        },
        "id": "dNFzFS2Xjj-A",
        "outputId": "c3bc126c-f2b5-41cc-9a0b-6674ab92805b"
      },
      "source": [
        "from google.colab import drive\n",
        "drive.mount('/content/drive')"
      ],
      "execution_count": null,
      "outputs": [
        {
          "output_type": "stream",
          "name": "stdout",
          "text": [
            "Drive already mounted at /content/drive; to attempt to forcibly remount, call drive.mount(\"/content/drive\", force_remount=True).\n"
          ]
        }
      ]
    },
    {
      "cell_type": "markdown",
      "source": [
        "Установка модулей, подключение библиотек"
      ],
      "metadata": {
        "id": "p7TRxEiw2rJ_"
      }
    },
    {
      "cell_type": "code",
      "metadata": {
        "colab": {
          "base_uri": "https://localhost:8080/"
        },
        "id": "h8yNyyVPfdOu",
        "outputId": "af6aedd5-bf93-4a52-b4b8-fce250949641"
      },
      "source": [
        "!pip install --upgrade pip\n",
        "!pip install imutils\n",
        "!pip install opencv-python"
      ],
      "execution_count": null,
      "outputs": [
        {
          "output_type": "stream",
          "name": "stdout",
          "text": [
            "Looking in indexes: https://pypi.org/simple, https://us-python.pkg.dev/colab-wheels/public/simple/\n",
            "Requirement already satisfied: pip in /usr/local/lib/python3.7/dist-packages (22.2.2)\n",
            "\u001b[33mWARNING: Running pip as the 'root' user can result in broken permissions and conflicting behaviour with the system package manager. It is recommended to use a virtual environment instead: https://pip.pypa.io/warnings/venv\u001b[0m\u001b[33m\n",
            "\u001b[0mLooking in indexes: https://pypi.org/simple, https://us-python.pkg.dev/colab-wheels/public/simple/\n",
            "Requirement already satisfied: imutils in /usr/local/lib/python3.7/dist-packages (0.5.4)\n",
            "\u001b[33mWARNING: Running pip as the 'root' user can result in broken permissions and conflicting behaviour with the system package manager. It is recommended to use a virtual environment instead: https://pip.pypa.io/warnings/venv\u001b[0m\u001b[33m\n",
            "\u001b[0mLooking in indexes: https://pypi.org/simple, https://us-python.pkg.dev/colab-wheels/public/simple/\n",
            "Requirement already satisfied: opencv-python in /usr/local/lib/python3.7/dist-packages (4.6.0.66)\n",
            "Requirement already satisfied: numpy>=1.14.5 in /usr/local/lib/python3.7/dist-packages (from opencv-python) (1.21.6)\n",
            "\u001b[33mWARNING: Running pip as the 'root' user can result in broken permissions and conflicting behaviour with the system package manager. It is recommended to use a virtual environment instead: https://pip.pypa.io/warnings/venv\u001b[0m\u001b[33m\n",
            "\u001b[0m"
          ]
        }
      ]
    },
    {
      "cell_type": "code",
      "metadata": {
        "id": "8Y_yemfufdOw"
      },
      "source": [
        "from sklearn.preprocessing import LabelEncoder\n",
        "from sklearn.svm import LinearSVC\n",
        "from sklearn.metrics import classification_report\n",
        "from sklearn.model_selection import train_test_split\n",
        "from IPython.display import Image\n",
        "from imutils import paths\n",
        "import numpy as np\n",
        "import cv2\n",
        "import os"
      ],
      "execution_count": null,
      "outputs": []
    },
    {
      "cell_type": "markdown",
      "source": [
        "Для работы с изображениями находятся их гистограммы — характеристики распределения интенсивности изображения."
      ],
      "metadata": {
        "id": "Bo15heaK21BB"
      }
    },
    {
      "cell_type": "code",
      "metadata": {
        "id": "HZ55sqd7fdOx"
      },
      "source": [
        "def extract_histogram(image, bins=(8, 8, 8)):\n",
        "    hist = cv2.calcHist([image], [0, 1, 2], None, bins, [0, 256, 0, 256, 0, 256])\n",
        "    cv2.normalize(hist, hist)\n",
        "    return hist.flatten()"
      ],
      "execution_count": null,
      "outputs": []
    },
    {
      "cell_type": "markdown",
      "source": [
        "Считывание изображений из корневой папки train и вичисление гистограммы каждого изображения. Отделение метки."
      ],
      "metadata": {
        "id": "tj0xB0mj29Bw"
      }
    },
    {
      "cell_type": "code",
      "metadata": {
        "id": "p8Oi50vZfdOy"
      },
      "source": [
        "imagePaths = sorted(list(paths.list_images('drive/MyDrive/train')))\n",
        "data = []\n",
        "labels = []\n",
        "\n",
        "for (i, imagePath) in enumerate(imagePaths):\n",
        "    image = cv2.imread(imagePath, 1)\n",
        "    label = imagePath.split(os.path.sep)[-1].split(\".\")[0]\n",
        "    hist = extract_histogram(image)\n",
        "    data.append(hist)\n",
        "    labels.append(label)"
      ],
      "execution_count": null,
      "outputs": []
    },
    {
      "cell_type": "markdown",
      "source": [
        "Преобразование метки в удобный формат 0 и 1. Тестирование на самой первой попавшейся картинке."
      ],
      "metadata": {
        "id": "LMOR2mG83NJo"
      }
    },
    {
      "cell_type": "code",
      "metadata": {
        "id": "Ku04uC7QfdOz",
        "colab": {
          "base_uri": "https://localhost:8080/",
          "height": 408
        },
        "outputId": "04e3de04-8927-4c9a-ee0b-a5150240f06e"
      },
      "source": [
        "le = LabelEncoder()\n",
        "labels = le.fit_transform(labels)\n",
        "print(labels[0])\n",
        "Image(filename=imagePaths[0])"
      ],
      "execution_count": null,
      "outputs": [
        {
          "output_type": "stream",
          "name": "stdout",
          "text": [
            "0\n"
          ]
        },
        {
          "output_type": "execute_result",
          "data": {
            "image/jpeg": "[encoded data removed]",
            "text/plain": [
              "<IPython.core.display.Image object>"
            ]
          },
          "metadata": {},
          "execution_count": 27
        }
      ]
    },
    {
      "cell_type": "markdown",
      "source": [
        "Разделение выборки на тренировочную и тестовую в отношении 75/25 с параметром random_state = 51."
      ],
      "metadata": {
        "id": "id_324nC3djq"
      }
    },
    {
      "cell_type": "code",
      "metadata": {
        "id": "E-HQ1FvmfdO0"
      },
      "source": [
        "(trainData, testData, trainLabels, testLabels) = train_test_split(np.array(data), labels, test_size=0.25, random_state=15)"
      ],
      "execution_count": null,
      "outputs": []
    },
    {
      "cell_type": "markdown",
      "source": [
        "Обучение модели почти-разделяющий гиперплосоксти на данных, ее оценка на тестовых данных."
      ],
      "metadata": {
        "id": "ECscONs33kyj"
      }
    },
    {
      "cell_type": "code",
      "metadata": {
        "id": "NYvtTjabfdO1",
        "colab": {
          "base_uri": "https://localhost:8080/"
        },
        "outputId": "4d378bc9-c251-4d68-e440-c62a3fdc44d5"
      },
      "source": [
        "model = LinearSVC(random_state = 15, C = 1.35)\n",
        "model.fit(trainData, trainLabels)"
      ],
      "execution_count": null,
      "outputs": [
        {
          "output_type": "execute_result",
          "data": {
            "text/plain": [
              "LinearSVC(C=1.35, random_state=15)"
            ]
          },
          "metadata": {},
          "execution_count": 29
        }
      ]
    },
    {
      "cell_type": "code",
      "metadata": {
        "id": "lowuh52zfdO1"
      },
      "source": [
        "predictions = model.predict(testData)"
      ],
      "execution_count": null,
      "outputs": []
    },
    {
      "cell_type": "markdown",
      "source": [
        "Ниже вывод матрицы ошибок для каждого класса: рассчитывается точность (precision) и полнота (recall). Затем вычисляется значение метрики F1 для каждого класса:![image.png](data:image/png;base64,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)\n"
      ],
      "metadata": {
        "id": "Fou_k1Q2EnYO"
      }
    },
    {
      "cell_type": "code",
      "metadata": {
        "id": "OYq7WTYlfdO1",
        "colab": {
          "base_uri": "https://localhost:8080/"
        },
        "outputId": "7dcf2898-8f63-49ca-c4dc-8feb65478484"
      },
      "source": [
        "print(classification_report(testLabels, predictions, target_names=le.classes_))"
      ],
      "execution_count": null,
      "outputs": [
        {
          "output_type": "stream",
          "name": "stdout",
          "text": [
            "              precision    recall  f1-score   support\n",
            "\n",
            "         cat       0.62      0.67      0.64        12\n",
            "         dog       0.67      0.62      0.64        13\n",
            "\n",
            "    accuracy                           0.64        25\n",
            "   macro avg       0.64      0.64      0.64        25\n",
            "weighted avg       0.64      0.64      0.64        25\n",
            "\n"
          ]
        }
      ]
    },
    {
      "cell_type": "code",
      "metadata": {
        "id": "k7Ssbdw5fdO2",
        "colab": {
          "base_uri": "https://localhost:8080/"
        },
        "outputId": "2559faaf-9495-48b6-ef3a-847c93b9db1c"
      },
      "source": [
        "from sklearn.metrics import f1_score\n",
        "predictions = model.predict(testData)\n",
        "f1_score(testLabels, predictions, average='macro') # среднее значение F1"
      ],
      "execution_count": null,
      "outputs": [
        {
          "output_type": "execute_result",
          "data": {
            "text/plain": [
              "0.64"
            ]
          },
          "metadata": {},
          "execution_count": 32
        }
      ]
    },
    {
      "cell_type": "markdown",
      "source": [
        "Коэффициент  θ1  построенной гиперплоскости:"
      ],
      "metadata": {
        "id": "Cls4O-ee31X7"
      }
    },
    {
      "cell_type": "code",
      "metadata": {
        "id": "C8ePuvSZfdO2",
        "colab": {
          "base_uri": "https://localhost:8080/"
        },
        "outputId": "b19442eb-b29c-4f50-ca54-6dba68d09d1e"
      },
      "source": [
        "model.coef_[0][55] #  ввести также индексы коэффициентов, которые надо найти (они могут быть равны нулю)"
      ],
      "execution_count": null,
      "outputs": [
        {
          "output_type": "execute_result",
          "data": {
            "text/plain": [
              "8.470329472543003e-22"
            ]
          },
          "metadata": {},
          "execution_count": 33
        }
      ]
    },
    {
      "cell_type": "markdown",
      "metadata": {
        "id": "adIHgPO1fdO3"
      },
      "source": [
        "##Предсказания для объекта из папки test"
      ]
    },
    {
      "cell_type": "markdown",
      "source": [
        "Вводится название фото, для которого нужно определить класс."
      ],
      "metadata": {
        "id": "o5gVVs9t6oNo"
      }
    },
    {
      "cell_type": "code",
      "metadata": {
        "id": "8IN6xkz1fdO3"
      },
      "source": [
        "singleImage = cv2.imread('drive/MyDrive/test/cat.1034.jpg') \n",
        "histt = extract_histogram(singleImage)\n",
        "histt2 = histt.reshape(1, -1)\n",
        "prediction = model.predict(histt2)"
      ],
      "execution_count": null,
      "outputs": []
    },
    {
      "cell_type": "markdown",
      "source": [
        "Если класс ['cat'] - ответ 0, если ['dog'] - 1"
      ],
      "metadata": {
        "id": "kQCKIKFH6ZMW"
      }
    },
    {
      "cell_type": "code",
      "metadata": {
        "id": "xNAkMqq5fdO4",
        "colab": {
          "base_uri": "https://localhost:8080/"
        },
        "outputId": "d5e02759-581f-487a-8feb-b991634b1ee3"
      },
      "source": [
        "prediction"
      ],
      "execution_count": null,
      "outputs": [
        {
          "output_type": "execute_result",
          "data": {
            "text/plain": [
              "array([0])"
            ]
          },
          "metadata": {},
          "execution_count": 35
        }
      ]
    },
    {
      "cell_type": "markdown",
      "source": [
        "Вывод тестового изображения"
      ],
      "metadata": {
        "id": "SWBQk9tuDQGO"
      }
    },
    {
      "cell_type": "code",
      "source": [
        "Image(filename=\"drive/MyDrive/test/cat.1034.jpg\")"
      ],
      "metadata": {
        "colab": {
          "base_uri": "https://localhost:8080/",
          "height": 271
        },
        "id": "cHT3mEz0B6-9",
        "outputId": "f3a42eb2-ecee-46bd-aa74-6a616f7c60b9"
      },
      "execution_count": null,
      "outputs": [
        {
          "output_type": "execute_result",
          "data": {
            "image/jpeg": "[encoded data removed]",
            "text/plain": [
              "<IPython.core.display.Image object>"
            ]
          },
          "metadata": {},
          "execution_count": 36
        }
      ]
    }
  ]
}